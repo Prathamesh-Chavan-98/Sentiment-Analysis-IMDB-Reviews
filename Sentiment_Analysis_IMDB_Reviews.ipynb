{
  "cells": [
    {
      "cell_type": "markdown",
      "metadata": {
        "id": "view-in-github",
        "colab_type": "text"
      },
      "source": [
        "<a href=\"https://colab.research.google.com/github/Prathamesh-Chavan-98/Sentiment-Analysis-IMDB-Reviews/blob/main/Sentiment_Analysis_IMDB_Reviews.ipynb\" target=\"_parent\"><img src=\"https://colab.research.google.com/assets/colab-badge.svg\" alt=\"Open In Colab\"/></a>"
      ]
    },
    {
      "cell_type": "code",
      "execution_count": null,
      "metadata": {
        "colab": {
          "base_uri": "https://localhost:8080/"
        },
        "id": "7UCIdI2Sxs9y",
        "outputId": "f8c10c92-4a9e-40b2-cfa9-3b4903fba992"
      },
      "outputs": [
        {
          "output_type": "stream",
          "name": "stdout",
          "text": [
            "Collecting opendatasets\n",
            "  Downloading opendatasets-0.1.22-py3-none-any.whl (15 kB)\n",
            "Requirement already satisfied: tqdm in /usr/local/lib/python3.10/dist-packages (from opendatasets) (4.66.4)\n",
            "Requirement already satisfied: kaggle in /usr/local/lib/python3.10/dist-packages (from opendatasets) (1.6.14)\n",
            "Requirement already satisfied: click in /usr/local/lib/python3.10/dist-packages (from opendatasets) (8.1.7)\n",
            "Requirement already satisfied: six>=1.10 in /usr/local/lib/python3.10/dist-packages (from kaggle->opendatasets) (1.16.0)\n",
            "Requirement already satisfied: certifi>=2023.7.22 in /usr/local/lib/python3.10/dist-packages (from kaggle->opendatasets) (2024.6.2)\n",
            "Requirement already satisfied: python-dateutil in /usr/local/lib/python3.10/dist-packages (from kaggle->opendatasets) (2.8.2)\n",
            "Requirement already satisfied: requests in /usr/local/lib/python3.10/dist-packages (from kaggle->opendatasets) (2.31.0)\n",
            "Requirement already satisfied: python-slugify in /usr/local/lib/python3.10/dist-packages (from kaggle->opendatasets) (8.0.4)\n",
            "Requirement already satisfied: urllib3 in /usr/local/lib/python3.10/dist-packages (from kaggle->opendatasets) (2.0.7)\n",
            "Requirement already satisfied: bleach in /usr/local/lib/python3.10/dist-packages (from kaggle->opendatasets) (6.1.0)\n",
            "Requirement already satisfied: webencodings in /usr/local/lib/python3.10/dist-packages (from bleach->kaggle->opendatasets) (0.5.1)\n",
            "Requirement already satisfied: text-unidecode>=1.3 in /usr/local/lib/python3.10/dist-packages (from python-slugify->kaggle->opendatasets) (1.3)\n",
            "Requirement already satisfied: charset-normalizer<4,>=2 in /usr/local/lib/python3.10/dist-packages (from requests->kaggle->opendatasets) (3.3.2)\n",
            "Requirement already satisfied: idna<4,>=2.5 in /usr/local/lib/python3.10/dist-packages (from requests->kaggle->opendatasets) (3.7)\n",
            "Installing collected packages: opendatasets\n",
            "Successfully installed opendatasets-0.1.22\n"
          ]
        }
      ],
      "source": [
        "!pip install opendatasets\n",
        "import opendatasets as od"
      ]
    },
    {
      "cell_type": "code",
      "execution_count": null,
      "metadata": {
        "colab": {
          "base_uri": "https://localhost:8080/"
        },
        "id": "k5whEgPAx10d",
        "outputId": "89b16ba0-5740-4b23-990c-f40a53334a4e"
      },
      "outputs": [
        {
          "output_type": "stream",
          "name": "stdout",
          "text": [
            "Dataset URL: https://www.kaggle.com/datasets/lakshmi25npathi/imdb-dataset-of-50k-movie-reviews\n",
            "Downloading imdb-dataset-of-50k-movie-reviews.zip to ./imdb-dataset-of-50k-movie-reviews\n"
          ]
        },
        {
          "output_type": "stream",
          "name": "stderr",
          "text": [
            "100%|██████████| 25.7M/25.7M [00:02<00:00, 12.2MB/s]\n"
          ]
        },
        {
          "output_type": "stream",
          "name": "stdout",
          "text": [
            "\n"
          ]
        }
      ],
      "source": [
        "od.download(\"https://www.kaggle.com/datasets/lakshmi25npathi/imdb-dataset-of-50k-movie-reviews\")\n"
      ]
    },
    {
      "cell_type": "code",
      "execution_count": null,
      "metadata": {
        "id": "Mmken5vyyR3X"
      },
      "outputs": [],
      "source": [
        "import pandas as pd\n",
        "data=pd.read_csv(\"imdb-dataset-of-50k-movie-reviews/IMDB Dataset.csv\")\n",
        "data.head()\n",
        "# Sample 10,000 reviews for testing purposes\n",
        "df= data.sample(n=20000, random_state=42)\n"
      ]
    },
    {
      "cell_type": "code",
      "execution_count": null,
      "metadata": {
        "colab": {
          "base_uri": "https://localhost:8080/"
        },
        "id": "Ee9NOWg6yR6J",
        "outputId": "cbca1978-bbb8-4f04-9492-87c0bc485ff9"
      },
      "outputs": [
        {
          "output_type": "execute_result",
          "data": {
            "text/plain": [
              "(20000, 2)"
            ]
          },
          "metadata": {},
          "execution_count": 4
        }
      ],
      "source": [
        "df.shape"
      ]
    },
    {
      "cell_type": "code",
      "execution_count": null,
      "metadata": {
        "colab": {
          "base_uri": "https://localhost:8080/"
        },
        "id": "eYhOUAt0yR81",
        "outputId": "989db718-94a3-4bea-8a3c-42ed2c4bc1eb"
      },
      "outputs": [
        {
          "output_type": "stream",
          "name": "stdout",
          "text": [
            "<class 'pandas.core.frame.DataFrame'>\n",
            "Index: 20000 entries, 33553 to 42326\n",
            "Data columns (total 2 columns):\n",
            " #   Column     Non-Null Count  Dtype \n",
            "---  ------     --------------  ----- \n",
            " 0   review     20000 non-null  object\n",
            " 1   sentiment  20000 non-null  object\n",
            "dtypes: object(2)\n",
            "memory usage: 468.8+ KB\n"
          ]
        }
      ],
      "source": [
        "df.info()"
      ]
    },
    {
      "cell_type": "code",
      "execution_count": null,
      "metadata": {
        "colab": {
          "base_uri": "https://localhost:8080/",
          "height": 175
        },
        "id": "TajP7pQ8yR_u",
        "outputId": "8f18fd8d-6c40-4e26-90c0-90f9f64f2c2c"
      },
      "outputs": [
        {
          "output_type": "execute_result",
          "data": {
            "text/plain": [
              "                                                   review sentiment\n",
              "count                                               20000     20000\n",
              "unique                                              19926         2\n",
              "top     Hilarious, clean, light-hearted, and quote-wor...  positive\n",
              "freq                                                    3     10011"
            ],
            "text/html": [
              "\n",
              "  <div id=\"df-278218ae-689b-428a-ab2e-d312eac22fac\" class=\"colab-df-container\">\n",
              "    <div>\n",
              "<style scoped>\n",
              "    .dataframe tbody tr th:only-of-type {\n",
              "        vertical-align: middle;\n",
              "    }\n",
              "\n",
              "    .dataframe tbody tr th {\n",
              "        vertical-align: top;\n",
              "    }\n",
              "\n",
              "    .dataframe thead th {\n",
              "        text-align: right;\n",
              "    }\n",
              "</style>\n",
              "<table border=\"1\" class=\"dataframe\">\n",
              "  <thead>\n",
              "    <tr style=\"text-align: right;\">\n",
              "      <th></th>\n",
              "      <th>review</th>\n",
              "      <th>sentiment</th>\n",
              "    </tr>\n",
              "  </thead>\n",
              "  <tbody>\n",
              "    <tr>\n",
              "      <th>count</th>\n",
              "      <td>20000</td>\n",
              "      <td>20000</td>\n",
              "    </tr>\n",
              "    <tr>\n",
              "      <th>unique</th>\n",
              "      <td>19926</td>\n",
              "      <td>2</td>\n",
              "    </tr>\n",
              "    <tr>\n",
              "      <th>top</th>\n",
              "      <td>Hilarious, clean, light-hearted, and quote-wor...</td>\n",
              "      <td>positive</td>\n",
              "    </tr>\n",
              "    <tr>\n",
              "      <th>freq</th>\n",
              "      <td>3</td>\n",
              "      <td>10011</td>\n",
              "    </tr>\n",
              "  </tbody>\n",
              "</table>\n",
              "</div>\n",
              "    <div class=\"colab-df-buttons\">\n",
              "\n",
              "  <div class=\"colab-df-container\">\n",
              "    <button class=\"colab-df-convert\" onclick=\"convertToInteractive('df-278218ae-689b-428a-ab2e-d312eac22fac')\"\n",
              "            title=\"Convert this dataframe to an interactive table.\"\n",
              "            style=\"display:none;\">\n",
              "\n",
              "  <svg xmlns=\"http://www.w3.org/2000/svg\" height=\"24px\" viewBox=\"0 -960 960 960\">\n",
              "    <path d=\"M120-120v-720h720v720H120Zm60-500h600v-160H180v160Zm220 220h160v-160H400v160Zm0 220h160v-160H400v160ZM180-400h160v-160H180v160Zm440 0h160v-160H620v160ZM180-180h160v-160H180v160Zm440 0h160v-160H620v160Z\"/>\n",
              "  </svg>\n",
              "    </button>\n",
              "\n",
              "  <style>\n",
              "    .colab-df-container {\n",
              "      display:flex;\n",
              "      gap: 12px;\n",
              "    }\n",
              "\n",
              "    .colab-df-convert {\n",
              "      background-color: #E8F0FE;\n",
              "      border: none;\n",
              "      border-radius: 50%;\n",
              "      cursor: pointer;\n",
              "      display: none;\n",
              "      fill: #1967D2;\n",
              "      height: 32px;\n",
              "      padding: 0 0 0 0;\n",
              "      width: 32px;\n",
              "    }\n",
              "\n",
              "    .colab-df-convert:hover {\n",
              "      background-color: #E2EBFA;\n",
              "      box-shadow: 0px 1px 2px rgba(60, 64, 67, 0.3), 0px 1px 3px 1px rgba(60, 64, 67, 0.15);\n",
              "      fill: #174EA6;\n",
              "    }\n",
              "\n",
              "    .colab-df-buttons div {\n",
              "      margin-bottom: 4px;\n",
              "    }\n",
              "\n",
              "    [theme=dark] .colab-df-convert {\n",
              "      background-color: #3B4455;\n",
              "      fill: #D2E3FC;\n",
              "    }\n",
              "\n",
              "    [theme=dark] .colab-df-convert:hover {\n",
              "      background-color: #434B5C;\n",
              "      box-shadow: 0px 1px 3px 1px rgba(0, 0, 0, 0.15);\n",
              "      filter: drop-shadow(0px 1px 2px rgba(0, 0, 0, 0.3));\n",
              "      fill: #FFFFFF;\n",
              "    }\n",
              "  </style>\n",
              "\n",
              "    <script>\n",
              "      const buttonEl =\n",
              "        document.querySelector('#df-278218ae-689b-428a-ab2e-d312eac22fac button.colab-df-convert');\n",
              "      buttonEl.style.display =\n",
              "        google.colab.kernel.accessAllowed ? 'block' : 'none';\n",
              "\n",
              "      async function convertToInteractive(key) {\n",
              "        const element = document.querySelector('#df-278218ae-689b-428a-ab2e-d312eac22fac');\n",
              "        const dataTable =\n",
              "          await google.colab.kernel.invokeFunction('convertToInteractive',\n",
              "                                                    [key], {});\n",
              "        if (!dataTable) return;\n",
              "\n",
              "        const docLinkHtml = 'Like what you see? Visit the ' +\n",
              "          '<a target=\"_blank\" href=https://colab.research.google.com/notebooks/data_table.ipynb>data table notebook</a>'\n",
              "          + ' to learn more about interactive tables.';\n",
              "        element.innerHTML = '';\n",
              "        dataTable['output_type'] = 'display_data';\n",
              "        await google.colab.output.renderOutput(dataTable, element);\n",
              "        const docLink = document.createElement('div');\n",
              "        docLink.innerHTML = docLinkHtml;\n",
              "        element.appendChild(docLink);\n",
              "      }\n",
              "    </script>\n",
              "  </div>\n",
              "\n",
              "\n",
              "<div id=\"df-4134a1e9-d1cc-4348-bfe5-5ae9ea806b73\">\n",
              "  <button class=\"colab-df-quickchart\" onclick=\"quickchart('df-4134a1e9-d1cc-4348-bfe5-5ae9ea806b73')\"\n",
              "            title=\"Suggest charts\"\n",
              "            style=\"display:none;\">\n",
              "\n",
              "<svg xmlns=\"http://www.w3.org/2000/svg\" height=\"24px\"viewBox=\"0 0 24 24\"\n",
              "     width=\"24px\">\n",
              "    <g>\n",
              "        <path d=\"M19 3H5c-1.1 0-2 .9-2 2v14c0 1.1.9 2 2 2h14c1.1 0 2-.9 2-2V5c0-1.1-.9-2-2-2zM9 17H7v-7h2v7zm4 0h-2V7h2v10zm4 0h-2v-4h2v4z\"/>\n",
              "    </g>\n",
              "</svg>\n",
              "  </button>\n",
              "\n",
              "<style>\n",
              "  .colab-df-quickchart {\n",
              "      --bg-color: #E8F0FE;\n",
              "      --fill-color: #1967D2;\n",
              "      --hover-bg-color: #E2EBFA;\n",
              "      --hover-fill-color: #174EA6;\n",
              "      --disabled-fill-color: #AAA;\n",
              "      --disabled-bg-color: #DDD;\n",
              "  }\n",
              "\n",
              "  [theme=dark] .colab-df-quickchart {\n",
              "      --bg-color: #3B4455;\n",
              "      --fill-color: #D2E3FC;\n",
              "      --hover-bg-color: #434B5C;\n",
              "      --hover-fill-color: #FFFFFF;\n",
              "      --disabled-bg-color: #3B4455;\n",
              "      --disabled-fill-color: #666;\n",
              "  }\n",
              "\n",
              "  .colab-df-quickchart {\n",
              "    background-color: var(--bg-color);\n",
              "    border: none;\n",
              "    border-radius: 50%;\n",
              "    cursor: pointer;\n",
              "    display: none;\n",
              "    fill: var(--fill-color);\n",
              "    height: 32px;\n",
              "    padding: 0;\n",
              "    width: 32px;\n",
              "  }\n",
              "\n",
              "  .colab-df-quickchart:hover {\n",
              "    background-color: var(--hover-bg-color);\n",
              "    box-shadow: 0 1px 2px rgba(60, 64, 67, 0.3), 0 1px 3px 1px rgba(60, 64, 67, 0.15);\n",
              "    fill: var(--button-hover-fill-color);\n",
              "  }\n",
              "\n",
              "  .colab-df-quickchart-complete:disabled,\n",
              "  .colab-df-quickchart-complete:disabled:hover {\n",
              "    background-color: var(--disabled-bg-color);\n",
              "    fill: var(--disabled-fill-color);\n",
              "    box-shadow: none;\n",
              "  }\n",
              "\n",
              "  .colab-df-spinner {\n",
              "    border: 2px solid var(--fill-color);\n",
              "    border-color: transparent;\n",
              "    border-bottom-color: var(--fill-color);\n",
              "    animation:\n",
              "      spin 1s steps(1) infinite;\n",
              "  }\n",
              "\n",
              "  @keyframes spin {\n",
              "    0% {\n",
              "      border-color: transparent;\n",
              "      border-bottom-color: var(--fill-color);\n",
              "      border-left-color: var(--fill-color);\n",
              "    }\n",
              "    20% {\n",
              "      border-color: transparent;\n",
              "      border-left-color: var(--fill-color);\n",
              "      border-top-color: var(--fill-color);\n",
              "    }\n",
              "    30% {\n",
              "      border-color: transparent;\n",
              "      border-left-color: var(--fill-color);\n",
              "      border-top-color: var(--fill-color);\n",
              "      border-right-color: var(--fill-color);\n",
              "    }\n",
              "    40% {\n",
              "      border-color: transparent;\n",
              "      border-right-color: var(--fill-color);\n",
              "      border-top-color: var(--fill-color);\n",
              "    }\n",
              "    60% {\n",
              "      border-color: transparent;\n",
              "      border-right-color: var(--fill-color);\n",
              "    }\n",
              "    80% {\n",
              "      border-color: transparent;\n",
              "      border-right-color: var(--fill-color);\n",
              "      border-bottom-color: var(--fill-color);\n",
              "    }\n",
              "    90% {\n",
              "      border-color: transparent;\n",
              "      border-bottom-color: var(--fill-color);\n",
              "    }\n",
              "  }\n",
              "</style>\n",
              "\n",
              "  <script>\n",
              "    async function quickchart(key) {\n",
              "      const quickchartButtonEl =\n",
              "        document.querySelector('#' + key + ' button');\n",
              "      quickchartButtonEl.disabled = true;  // To prevent multiple clicks.\n",
              "      quickchartButtonEl.classList.add('colab-df-spinner');\n",
              "      try {\n",
              "        const charts = await google.colab.kernel.invokeFunction(\n",
              "            'suggestCharts', [key], {});\n",
              "      } catch (error) {\n",
              "        console.error('Error during call to suggestCharts:', error);\n",
              "      }\n",
              "      quickchartButtonEl.classList.remove('colab-df-spinner');\n",
              "      quickchartButtonEl.classList.add('colab-df-quickchart-complete');\n",
              "    }\n",
              "    (() => {\n",
              "      let quickchartButtonEl =\n",
              "        document.querySelector('#df-4134a1e9-d1cc-4348-bfe5-5ae9ea806b73 button');\n",
              "      quickchartButtonEl.style.display =\n",
              "        google.colab.kernel.accessAllowed ? 'block' : 'none';\n",
              "    })();\n",
              "  </script>\n",
              "</div>\n",
              "\n",
              "    </div>\n",
              "  </div>\n"
            ],
            "application/vnd.google.colaboratory.intrinsic+json": {
              "type": "dataframe",
              "summary": "{\n  \"name\": \"df\",\n  \"rows\": 4,\n  \"fields\": [\n    {\n      \"column\": \"review\",\n      \"properties\": {\n        \"dtype\": \"string\",\n        \"num_unique_values\": 4,\n        \"samples\": [\n          19926,\n          \"3\",\n          \"20000\"\n        ],\n        \"semantic_type\": \"\",\n        \"description\": \"\"\n      }\n    },\n    {\n      \"column\": \"sentiment\",\n      \"properties\": {\n        \"dtype\": \"string\",\n        \"num_unique_values\": 4,\n        \"samples\": [\n          2,\n          \"10011\",\n          \"20000\"\n        ],\n        \"semantic_type\": \"\",\n        \"description\": \"\"\n      }\n    }\n  ]\n}"
            }
          },
          "metadata": {},
          "execution_count": 6
        }
      ],
      "source": [
        "df.describe()"
      ]
    },
    {
      "cell_type": "markdown",
      "metadata": {
        "id": "8le3dUr9iWV5"
      },
      "source": [
        "# ***removal of punctuation ***\n"
      ]
    },
    {
      "cell_type": "code",
      "execution_count": null,
      "metadata": {
        "colab": {
          "base_uri": "https://localhost:8080/"
        },
        "id": "nLFILMSZySCR",
        "outputId": "648dbe6a-7d2e-4ce2-b51c-1ec36d1591ce"
      },
      "outputs": [
        {
          "output_type": "stream",
          "name": "stdout",
          "text": [
            "                                                  review sentiment\n",
            "33553  I really liked this Summerslam due to the look...  positive\n",
            "9427   Not many television shows appeal to quite as m...  positive\n",
            "199    The film quickly gets to a major chase scene w...  negative\n",
            "12447  Jane Austen would definitely approve of this o...  positive\n",
            "39489  Expectations were somewhat high for me when I ...  negative\n",
            "...                                                  ...       ...\n",
            "14324  A touching movie about a talented woman who st...  positive\n",
            "43453  I just came from seeing this movie and decided...  negative\n",
            "29499  Dolemite is one of the best movies featuring a...  positive\n",
            "42681  In the future a disparate group of people asle...  positive\n",
            "42326  The Jazz Singer is one of a number of films ma...  positive\n",
            "\n",
            "[20000 rows x 2 columns]\n"
          ]
        }
      ],
      "source": [
        "import pandas as pd\n",
        "import re\n",
        "\n",
        "# Function to remove punctuation\n",
        "def remove_punctuation(text):\n",
        "    return re.sub(r'[^\\w\\s]', '', text)\n",
        "\n",
        "# Apply the function to the 'review' column\n",
        "df['review'] = df['review'].apply(remove_punctuation)\n",
        "\n",
        "# Print the modified DataFrame\n",
        "print(df)\n"
      ]
    },
    {
      "cell_type": "markdown",
      "metadata": {
        "id": "mVRiFr2YicxQ"
      },
      "source": [
        "# ***removal of special characters ***"
      ]
    },
    {
      "cell_type": "code",
      "execution_count": null,
      "metadata": {
        "colab": {
          "base_uri": "https://localhost:8080/"
        },
        "id": "BkXs3OdmySFK",
        "outputId": "a19a2989-efd2-4393-a754-2621a73ea54e"
      },
      "outputs": [
        {
          "output_type": "stream",
          "name": "stdout",
          "text": [
            "                                                  review sentiment\n",
            "33553  I really liked this Summerslam due to the look...  positive\n",
            "9427   Not many television shows appeal to quite as m...  positive\n",
            "199    The film quickly gets to a major chase scene w...  negative\n",
            "12447  Jane Austen would definitely approve of this o...  positive\n",
            "39489  Expectations were somewhat high for me when I ...  negative\n",
            "...                                                  ...       ...\n",
            "14324  A touching movie about a talented woman who st...  positive\n",
            "43453  I just came from seeing this movie and decided...  negative\n",
            "29499  Dolemite is one of the best movies featuring a...  positive\n",
            "42681  In the future a disparate group of people asle...  positive\n",
            "42326  The Jazz Singer is one of a number of films ma...  positive\n",
            "\n",
            "[20000 rows x 2 columns]\n"
          ]
        }
      ],
      "source": [
        "\n",
        "# Function to remove special characters\n",
        "def remove_special_characters(text):\n",
        "    return re.sub(r'[^A-Za-z0-9\\s]', '', text)\n",
        "\n",
        "# Apply the function to the 'review' column\n",
        "df['review'] = df['review'].apply(remove_special_characters)\n",
        "\n",
        "# Print the modified DataFrame\n",
        "print(df)\n"
      ]
    },
    {
      "cell_type": "markdown",
      "metadata": {
        "id": "jwx2AzC1nQO6"
      },
      "source": [
        "# ***tokenization***"
      ]
    },
    {
      "cell_type": "code",
      "execution_count": null,
      "metadata": {
        "colab": {
          "base_uri": "https://localhost:8080/"
        },
        "id": "amfNS7Lzqeim",
        "outputId": "57818147-d495-45de-80f0-ff2cc928a4ed"
      },
      "outputs": [
        {
          "output_type": "stream",
          "name": "stdout",
          "text": [
            "Requirement already satisfied: nltk in /usr/local/lib/python3.10/dist-packages (3.8.1)\n",
            "Requirement already satisfied: click in /usr/local/lib/python3.10/dist-packages (from nltk) (8.1.7)\n",
            "Requirement already satisfied: joblib in /usr/local/lib/python3.10/dist-packages (from nltk) (1.4.2)\n",
            "Requirement already satisfied: regex>=2021.8.3 in /usr/local/lib/python3.10/dist-packages (from nltk) (2024.5.15)\n",
            "Requirement already satisfied: tqdm in /usr/local/lib/python3.10/dist-packages (from nltk) (4.66.4)\n"
          ]
        },
        {
          "output_type": "stream",
          "name": "stderr",
          "text": [
            "[nltk_data] Downloading package punkt to /root/nltk_data...\n",
            "[nltk_data]   Unzipping tokenizers/punkt.zip.\n"
          ]
        },
        {
          "output_type": "stream",
          "name": "stdout",
          "text": [
            "                                                  review sentiment  \\\n",
            "33553  I really liked this Summerslam due to the look...  positive   \n",
            "9427   Not many television shows appeal to quite as m...  positive   \n",
            "199    The film quickly gets to a major chase scene w...  negative   \n",
            "12447  Jane Austen would definitely approve of this o...  positive   \n",
            "39489  Expectations were somewhat high for me when I ...  negative   \n",
            "...                                                  ...       ...   \n",
            "14324  A touching movie about a talented woman who st...  positive   \n",
            "43453  I just came from seeing this movie and decided...  negative   \n",
            "29499  Dolemite is one of the best movies featuring a...  positive   \n",
            "42681  In the future a disparate group of people asle...  positive   \n",
            "42326  The Jazz Singer is one of a number of films ma...  positive   \n",
            "\n",
            "                                        tokenized_review  \n",
            "33553  [I, really, liked, this, Summerslam, due, to, ...  \n",
            "9427   [Not, many, television, shows, appeal, to, qui...  \n",
            "199    [The, film, quickly, gets, to, a, major, chase...  \n",
            "12447  [Jane, Austen, would, definitely, approve, of,...  \n",
            "39489  [Expectations, were, somewhat, high, for, me, ...  \n",
            "...                                                  ...  \n",
            "14324  [A, touching, movie, about, a, talented, woman...  \n",
            "43453  [I, just, came, from, seeing, this, movie, and...  \n",
            "29499  [Dolemite, is, one, of, the, best, movies, fea...  \n",
            "42681  [In, the, future, a, disparate, group, of, peo...  \n",
            "42326  [The, Jazz, Singer, is, one, of, a, number, of...  \n",
            "\n",
            "[20000 rows x 3 columns]\n"
          ]
        }
      ],
      "source": [
        "!pip install nltk\n",
        "import nltk\n",
        "import pandas as pd\n",
        "from nltk.tokenize import word_tokenize\n",
        "\n",
        "nltk.download('punkt') # Download the 'punkt' resource for sentence tokenization\n",
        "\n",
        "# Function to tokenize text\n",
        "def tokenize_text(text):\n",
        "    return word_tokenize(text)\n",
        "\n",
        "# Apply the function to the 'review' column\n",
        "df['tokenized_review'] = df['review'].apply(tokenize_text)\n",
        "\n",
        "# Print the modified DataFrame\n",
        "print(df)"
      ]
    },
    {
      "cell_type": "code",
      "execution_count": null,
      "metadata": {
        "colab": {
          "base_uri": "https://localhost:8080/"
        },
        "id": "81bQHZGhjoxI",
        "outputId": "727cdebe-8d0a-42f9-bf6d-9acd357fae39"
      },
      "outputs": [
        {
          "output_type": "stream",
          "name": "stdout",
          "text": [
            "33553    [I, really, liked, this, Summerslam, due, to, ...\n",
            "9427     [Not, many, television, shows, appeal, to, qui...\n",
            "199      [The, film, quickly, gets, to, a, major, chase...\n",
            "12447    [Jane, Austen, would, definitely, approve, of,...\n",
            "39489    [Expectations, were, somewhat, high, for, me, ...\n",
            "                               ...                        \n",
            "14324    [A, touching, movie, about, a, talented, woman...\n",
            "43453    [I, just, came, from, seeing, this, movie, and...\n",
            "29499    [Dolemite, is, one, of, the, best, movies, fea...\n",
            "42681    [In, the, future, a, disparate, group, of, peo...\n",
            "42326    [The, Jazz, Singer, is, one, of, a, number, of...\n",
            "Name: tokenized_review, Length: 20000, dtype: object\n"
          ]
        }
      ],
      "source": [
        "print(df['tokenized_review'])"
      ]
    },
    {
      "cell_type": "markdown",
      "metadata": {
        "id": "WC3jQqmsiiEX"
      },
      "source": [
        "# ***stemming***"
      ]
    },
    {
      "cell_type": "code",
      "execution_count": null,
      "metadata": {
        "colab": {
          "base_uri": "https://localhost:8080/"
        },
        "id": "_0CpT9nnkX7P",
        "outputId": "1537487a-cfdb-4bb0-b975-a9957eeba4ed"
      },
      "outputs": [
        {
          "output_type": "stream",
          "name": "stderr",
          "text": [
            "[nltk_data] Downloading package punkt to /root/nltk_data...\n",
            "[nltk_data]   Package punkt is already up-to-date!\n"
          ]
        },
        {
          "output_type": "stream",
          "name": "stdout",
          "text": [
            "                                                  review sentiment  \\\n",
            "33553  I really liked this Summerslam due to the look...  positive   \n",
            "9427   Not many television shows appeal to quite as m...  positive   \n",
            "199    The film quickly gets to a major chase scene w...  negative   \n",
            "12447  Jane Austen would definitely approve of this o...  positive   \n",
            "39489  Expectations were somewhat high for me when I ...  negative   \n",
            "...                                                  ...       ...   \n",
            "14324  A touching movie about a talented woman who st...  positive   \n",
            "43453  I just came from seeing this movie and decided...  negative   \n",
            "29499  Dolemite is one of the best movies featuring a...  positive   \n",
            "42681  In the future a disparate group of people asle...  positive   \n",
            "42326  The Jazz Singer is one of a number of films ma...  positive   \n",
            "\n",
            "                                        tokenized_review  \\\n",
            "33553  [I, really, liked, this, Summerslam, due, to, ...   \n",
            "9427   [Not, many, television, shows, appeal, to, qui...   \n",
            "199    [The, film, quickly, gets, to, a, major, chase...   \n",
            "12447  [Jane, Austen, would, definitely, approve, of,...   \n",
            "39489  [Expectations, were, somewhat, high, for, me, ...   \n",
            "...                                                  ...   \n",
            "14324  [A, touching, movie, about, a, talented, woman...   \n",
            "43453  [I, just, came, from, seeing, this, movie, and...   \n",
            "29499  [Dolemite, is, one, of, the, best, movies, fea...   \n",
            "42681  [In, the, future, a, disparate, group, of, peo...   \n",
            "42326  [The, Jazz, Singer, is, one, of, a, number, of...   \n",
            "\n",
            "                                          stemmed_review  \n",
            "33553  i realli like thi summerslam due to the look o...  \n",
            "9427   not mani televis show appeal to quit as mani d...  \n",
            "199    the film quickli get to a major chase scene wi...  \n",
            "12447  jane austen would definit approv of thi onebr ...  \n",
            "39489  expect were somewhat high for me when i went t...  \n",
            "...                                                  ...  \n",
            "14324  a touch movi about a talent woman who struggl ...  \n",
            "43453  i just came from see thi movi and decid to see...  \n",
            "29499  dolemit is one of the best movi featur a pimp ...  \n",
            "42681  in the futur a dispar group of peopl asleep ab...  \n",
            "42326  the jazz singer is one of a number of film mad...  \n",
            "\n",
            "[20000 rows x 4 columns]\n",
            "33553    i realli like thi summerslam due to the look o...\n",
            "9427     not mani televis show appeal to quit as mani d...\n",
            "199      the film quickli get to a major chase scene wi...\n",
            "12447    jane austen would definit approv of thi onebr ...\n",
            "39489    expect were somewhat high for me when i went t...\n",
            "                               ...                        \n",
            "14324    a touch movi about a talent woman who struggl ...\n",
            "43453    i just came from see thi movi and decid to see...\n",
            "29499    dolemit is one of the best movi featur a pimp ...\n",
            "42681    in the futur a dispar group of peopl asleep ab...\n",
            "42326    the jazz singer is one of a number of film mad...\n",
            "Name: stemmed_review, Length: 20000, dtype: object\n"
          ]
        }
      ],
      "source": [
        "import nltk\n",
        "from nltk.stem import PorterStemmer\n",
        "\n",
        "# Download necessary resources\n",
        "nltk.download('punkt')\n",
        "\n",
        "# Initialize the PorterStemmer\n",
        "stemmer = PorterStemmer()\n",
        "\n",
        "# Function to apply stemming\n",
        "def stem_text(tokenized_text): # Changed input to 'tokenized_text'\n",
        "    # Apply stemming to each word\n",
        "    stemmed_words = [stemmer.stem(word) for word in tokenized_text] # 'tokenized_text' used here\n",
        "    # Join the stemmed words back into a single string\n",
        "    return ' '.join(stemmed_words)\n",
        "\n",
        "# Apply the function to the 'tokenized_review' column\n",
        "df['stemmed_review'] = df['tokenized_review'].apply(stem_text)\n",
        "\n",
        "# Print the modified DataFrame\n",
        "print(df)\n",
        "print(df['stemmed_review'])"
      ]
    },
    {
      "cell_type": "markdown",
      "metadata": {
        "id": "aRiYOkk_iwQY"
      },
      "source": []
    },
    {
      "cell_type": "markdown",
      "metadata": {
        "id": "qyWBkoEqiliB"
      },
      "source": [
        "# ***lemmatization***"
      ]
    },
    {
      "cell_type": "code",
      "execution_count": null,
      "metadata": {
        "colab": {
          "base_uri": "https://localhost:8080/"
        },
        "id": "ZPFQrRxgmXla",
        "outputId": "eb55761d-e3dc-4951-a7c3-d7ea6f1c69d7"
      },
      "outputs": [
        {
          "output_type": "stream",
          "name": "stderr",
          "text": [
            "[nltk_data] Downloading package punkt to /root/nltk_data...\n",
            "[nltk_data]   Package punkt is already up-to-date!\n",
            "[nltk_data] Downloading package wordnet to /root/nltk_data...\n",
            "[nltk_data] Downloading package omw-1.4 to /root/nltk_data...\n"
          ]
        },
        {
          "output_type": "stream",
          "name": "stdout",
          "text": [
            "                                                  review sentiment  \\\n",
            "33553  I really liked this Summerslam due to the look...  positive   \n",
            "9427   Not many television shows appeal to quite as m...  positive   \n",
            "199    The film quickly gets to a major chase scene w...  negative   \n",
            "12447  Jane Austen would definitely approve of this o...  positive   \n",
            "39489  Expectations were somewhat high for me when I ...  negative   \n",
            "...                                                  ...       ...   \n",
            "14324  A touching movie about a talented woman who st...  positive   \n",
            "43453  I just came from seeing this movie and decided...  negative   \n",
            "29499  Dolemite is one of the best movies featuring a...  positive   \n",
            "42681  In the future a disparate group of people asle...  positive   \n",
            "42326  The Jazz Singer is one of a number of films ma...  positive   \n",
            "\n",
            "                                        tokenized_review  \\\n",
            "33553  [I, really, liked, this, Summerslam, due, to, ...   \n",
            "9427   [Not, many, television, shows, appeal, to, qui...   \n",
            "199    [The, film, quickly, gets, to, a, major, chase...   \n",
            "12447  [Jane, Austen, would, definitely, approve, of,...   \n",
            "39489  [Expectations, were, somewhat, high, for, me, ...   \n",
            "...                                                  ...   \n",
            "14324  [A, touching, movie, about, a, talented, woman...   \n",
            "43453  [I, just, came, from, seeing, this, movie, and...   \n",
            "29499  [Dolemite, is, one, of, the, best, movies, fea...   \n",
            "42681  [In, the, future, a, disparate, group, of, peo...   \n",
            "42326  [The, Jazz, Singer, is, one, of, a, number, of...   \n",
            "\n",
            "                                          stemmed_review  \\\n",
            "33553  i realli like thi summerslam due to the look o...   \n",
            "9427   not mani televis show appeal to quit as mani d...   \n",
            "199    the film quickli get to a major chase scene wi...   \n",
            "12447  jane austen would definit approv of thi onebr ...   \n",
            "39489  expect were somewhat high for me when i went t...   \n",
            "...                                                  ...   \n",
            "14324  a touch movi about a talent woman who struggl ...   \n",
            "43453  i just came from see thi movi and decid to see...   \n",
            "29499  dolemit is one of the best movi featur a pimp ...   \n",
            "42681  in the futur a dispar group of peopl asleep ab...   \n",
            "42326  the jazz singer is one of a number of film mad...   \n",
            "\n",
            "                                       lemmatized_review  \n",
            "33553  i realli like thi summerslam due to the look o...  \n",
            "9427   not mani televis show appeal to quit a mani di...  \n",
            "199    the film quickli get to a major chase scene wi...  \n",
            "12447  jane austen would definit approv of thi onebr ...  \n",
            "39489  expect were somewhat high for me when i went t...  \n",
            "...                                                  ...  \n",
            "14324  a touch movi about a talent woman who struggl ...  \n",
            "43453  i just came from see thi movi and decid to see...  \n",
            "29499  dolemit is one of the best movi featur a pimp ...  \n",
            "42681  in the futur a dispar group of peopl asleep ab...  \n",
            "42326  the jazz singer is one of a number of film mad...  \n",
            "\n",
            "[20000 rows x 5 columns]\n",
            "33553    i realli like thi summerslam due to the look o...\n",
            "9427     not mani televis show appeal to quit a mani di...\n",
            "199      the film quickli get to a major chase scene wi...\n",
            "12447    jane austen would definit approv of thi onebr ...\n",
            "39489    expect were somewhat high for me when i went t...\n",
            "                               ...                        \n",
            "14324    a touch movi about a talent woman who struggl ...\n",
            "43453    i just came from see thi movi and decid to see...\n",
            "29499    dolemit is one of the best movi featur a pimp ...\n",
            "42681    in the futur a dispar group of peopl asleep ab...\n",
            "42326    the jazz singer is one of a number of film mad...\n",
            "Name: lemmatized_review, Length: 20000, dtype: object\n"
          ]
        }
      ],
      "source": [
        "import pandas as pd\n",
        "from nltk.stem import WordNetLemmatizer\n",
        "from nltk.tokenize import word_tokenize\n",
        "import nltk\n",
        "\n",
        "# Download necessary NLTK data (if not already downloaded)\n",
        "nltk.download('punkt')\n",
        "nltk.download('wordnet')\n",
        "nltk.download('omw-1.4')\n",
        "\n",
        "# Initialize the WordNetLemmatizer\n",
        "lemmatizer = WordNetLemmatizer()\n",
        "\n",
        "# Function to lemmatize text\n",
        "def lemmatize_text(text):\n",
        "    words = word_tokenize(text)  # Tokenize the stemmed text\n",
        "    lemmatized_words = [lemmatizer.lemmatize(word) for word in words]\n",
        "    return ' '.join(lemmatized_words)\n",
        "\n",
        "# Apply the function to the 'stemmed_review' column\n",
        "df['lemmatized_review'] = df['stemmed_review'].apply(lemmatize_text)\n",
        "\n",
        "# Print the modified DataFrame\n",
        "print(df)\n",
        "print(df['lemmatized_review'])"
      ]
    },
    {
      "cell_type": "markdown",
      "metadata": {
        "id": "nZbrZmFhirET"
      },
      "source": [
        "# ***vectorization***"
      ]
    },
    {
      "cell_type": "code",
      "execution_count": null,
      "metadata": {
        "id": "mapWj5iHfQR0",
        "colab": {
          "base_uri": "https://localhost:8080/"
        },
        "outputId": "b492b45c-ccbc-4317-ec46-02cc5facabe5"
      },
      "outputs": [
        {
          "output_type": "stream",
          "name": "stderr",
          "text": [
            "[nltk_data] Downloading package punkt to /root/nltk_data...\n",
            "[nltk_data]   Package punkt is already up-to-date!\n",
            "[nltk_data] Downloading package wordnet to /root/nltk_data...\n",
            "[nltk_data]   Package wordnet is already up-to-date!\n",
            "[nltk_data] Downloading package omw-1.4 to /root/nltk_data...\n",
            "[nltk_data]   Package omw-1.4 is already up-to-date!\n"
          ]
        },
        {
          "output_type": "stream",
          "name": "stdout",
          "text": [
            "\n",
            "Bag of Words DataFrame:\n",
            "       00  000  0000000000001  00000110  0001  00015  0010  002  006  0069  \\\n",
            "0       0    0              0         0     0      0     0    0    0     0   \n",
            "1       0    0              0         0     0      0     0    0    0     0   \n",
            "2       0    0              0         0     0      0     0    0    0     0   \n",
            "3       0    0              0         0     0      0     0    0    0     0   \n",
            "4       0    0              0         0     0      0     0    0    0     0   \n",
            "...    ..  ...            ...       ...   ...    ...   ...  ...  ...   ...   \n",
            "19995   0    0              0         0     0      0     0    0    0     0   \n",
            "19996   0    0              0         0     0      0     0    0    0     0   \n",
            "19997   0    0              0         0     0      0     0    0    0     0   \n",
            "19998   0    0              0         0     0      0     0    0    0     0   \n",
            "19999   0    0              0         0     0      0     0    0    0     0   \n",
            "\n",
            "       ...  zwart  zwick  zwrite  zx81  zy  zz  zzvorkov  zzzz  zzzzz  \\\n",
            "0      ...      0      0       0     0   0   0         0     0      0   \n",
            "1      ...      0      0       0     0   0   0         0     0      0   \n",
            "2      ...      0      0       0     0   0   0         0     0      0   \n",
            "3      ...      0      0       0     0   0   0         0     0      0   \n",
            "4      ...      0      0       0     0   0   0         0     0      0   \n",
            "...    ...    ...    ...     ...   ...  ..  ..       ...   ...    ...   \n",
            "19995  ...      0      0       0     0   0   0         0     0      0   \n",
            "19996  ...      0      0       0     0   0   0         0     0      0   \n",
            "19997  ...      0      0       0     0   0   0         0     0      0   \n",
            "19998  ...      0      0       0     0   0   0         0     0      0   \n",
            "19999  ...      0      0       0     0   0   0         0     0      0   \n",
            "\n",
            "       zzzzzzzzzzzz  \n",
            "0                 0  \n",
            "1                 0  \n",
            "2                 0  \n",
            "3                 0  \n",
            "4                 0  \n",
            "...             ...  \n",
            "19995             0  \n",
            "19996             0  \n",
            "19997             0  \n",
            "19998             0  \n",
            "19999             0  \n",
            "\n",
            "[20000 rows x 82789 columns]\n"
          ]
        }
      ],
      "source": [
        "import pandas as pd\n",
        "from nltk.stem import WordNetLemmatizer\n",
        "from nltk.tokenize import word_tokenize\n",
        "import nltk\n",
        "from sklearn.feature_extraction.text import CountVectorizer\n",
        "\n",
        "# Download necessary NLTK data (if not already downloaded)\n",
        "nltk.download('punkt')\n",
        "nltk.download('wordnet')\n",
        "nltk.download('omw-1.4')\n",
        "\n",
        "# Initialize the CountVectorizer\n",
        "vectorizer = CountVectorizer()\n",
        "\n",
        "# Fit and transform the lemmatized review data\n",
        "X = vectorizer.fit_transform(df['lemmatized_review'])\n",
        "\n",
        "# Convert the result to a DataFrame for better readability\n",
        "bow_df = pd.DataFrame(X.toarray(), columns=vectorizer.get_feature_names_out())\n",
        "\n",
        "# Print the Bag of Words DataFrame\n",
        "print(\"\\nBag of Words DataFrame:\")\n",
        "print(bow_df)"
      ]
    },
    {
      "cell_type": "markdown",
      "source": [
        "# ***RandomForestClassifier***"
      ],
      "metadata": {
        "id": "HtQfujwD5wpu"
      }
    },
    {
      "cell_type": "code",
      "execution_count": null,
      "metadata": {
        "id": "YSE0xvDcfQYF",
        "colab": {
          "base_uri": "https://localhost:8080/"
        },
        "outputId": "3065ff04-5f2a-41a7-bcf8-c956380faa35"
      },
      "outputs": [
        {
          "output_type": "stream",
          "name": "stdout",
          "text": [
            "Random Forest Accuracy: 0.84075\n",
            "              precision    recall  f1-score   support\n",
            "\n",
            "    negative       0.84      0.84      0.84      1996\n",
            "    positive       0.84      0.84      0.84      2004\n",
            "\n",
            "    accuracy                           0.84      4000\n",
            "   macro avg       0.84      0.84      0.84      4000\n",
            "weighted avg       0.84      0.84      0.84      4000\n",
            "\n",
            "Prediction for new comment: positive\n"
          ]
        }
      ],
      "source": [
        "import pandas as pd\n",
        "from sklearn.model_selection import train_test_split\n",
        "from sklearn.ensemble import RandomForestClassifier\n",
        "from sklearn.metrics import accuracy_score, classification_report\n",
        "\n",
        "\n",
        "# Split data into train and test sets\n",
        "X_train, X_test, y_train, y_test = train_test_split(X, df['sentiment'], test_size=0.2, random_state=42)\n",
        "\n",
        "# Initialize the Random Forest Classifier\n",
        "rf = RandomForestClassifier(n_estimators=100, random_state=42)\n",
        "\n",
        "# Train the Random Forest Classifier\n",
        "rf.fit(X_train, y_train)\n",
        "\n",
        "# Predict on the test set\n",
        "y_pred = rf.predict(X_test)\n",
        "\n",
        "# Evaluate the model\n",
        "print(\"Random Forest Accuracy:\", accuracy_score(y_test, y_pred))\n",
        "print(classification_report(y_test, y_pred))\n",
        "\n",
        "# Function to classify new comments\n",
        "def classify_comment(comment):\n",
        "    # Call the correct lemmatization function 'lemmatize_text'\n",
        "    lemmatized_comment = lemmatize_text(comment)\n",
        "    transformed_comment = vectorizer.transform([lemmatized_comment])\n",
        "    prediction = rf.predict(transformed_comment)\n",
        "    return prediction[0]\n",
        "\n",
        "# Example usage of classify_comment function\n",
        "new_comment = \"The movie was fantastic and had great acting!\"\n",
        "result = classify_comment(new_comment)\n",
        "print(f\"Prediction for new comment: {result}\")"
      ]
    },
    {
      "cell_type": "markdown",
      "source": [
        "# *** Prediction on New Comments***"
      ],
      "metadata": {
        "id": "XnKntv8U0zWj"
      }
    },
    {
      "cell_type": "code",
      "execution_count": null,
      "metadata": {
        "id": "MU1ZRmRqfQeQ",
        "colab": {
          "base_uri": "https://localhost:8080/"
        },
        "outputId": "a610657c-24d5-4f8e-b791-0c611e46dca3"
      },
      "outputs": [
        {
          "output_type": "stream",
          "name": "stdout",
          "text": [
            "Prediction for new comment: negative\n"
          ]
        }
      ],
      "source": [
        "# Function to classify new comments\n",
        "def classify_comment(comment):\n",
        "    # Call the correct lemmatization function 'lemmatize_text'\n",
        "    lemmatized_comment = lemmatize_text(comment)\n",
        "    transformed_comment = vectorizer.transform([lemmatized_comment])\n",
        "    prediction = rf.predict(transformed_comment)\n",
        "    return prediction[0]\n",
        "\n",
        "# Example usage of classify_comment function\n",
        "new_comment = \"worst movie\"\n",
        "result = classify_comment(new_comment)\n",
        "print(f\"Prediction for new comment: {result}\")"
      ]
    },
    {
      "cell_type": "markdown",
      "source": [
        "# ***Accuracy score***"
      ],
      "metadata": {
        "id": "d106q33f6CUa"
      }
    },
    {
      "cell_type": "code",
      "execution_count": null,
      "metadata": {
        "id": "BZk5Cw9wfQh_",
        "colab": {
          "base_uri": "https://localhost:8080/"
        },
        "outputId": "a25c0946-f183-474d-a2bf-d657843d8271"
      },
      "outputs": [
        {
          "output_type": "stream",
          "name": "stdout",
          "text": [
            "Random Forest Accuracy: 0.84075\n",
            "Classification Report:\n",
            "              precision    recall  f1-score   support\n",
            "\n",
            "    negative       0.84      0.84      0.84      1996\n",
            "    positive       0.84      0.84      0.84      2004\n",
            "\n",
            "    accuracy                           0.84      4000\n",
            "   macro avg       0.84      0.84      0.84      4000\n",
            "weighted avg       0.84      0.84      0.84      4000\n",
            "\n"
          ]
        }
      ],
      "source": [
        "from sklearn.metrics import accuracy_score, classification_report\n",
        "\n",
        "# Predict on the test set\n",
        "y_pred = rf.predict(X_test)\n",
        "\n",
        "# Evaluate the model\n",
        "accuracy = accuracy_score(y_test, y_pred)\n",
        "report = classification_report(y_test, y_pred)\n",
        "\n",
        "print(\"Random Forest Accuracy:\", accuracy)\n",
        "print(\"Classification Report:\")\n",
        "print(report)\n"
      ]
    },
    {
      "cell_type": "code",
      "source": [
        "from sklearn.metrics import accuracy_score, classification_report\n",
        "\n",
        "# Predict on the test set\n",
        "y_pred = rf.predict(X_test)\n",
        "\n",
        "# Evaluate the model\n",
        "accuracy = accuracy_score(y_test, y_pred)\n",
        "accuracy_percentage = accuracy * 100\n",
        "report = classification_report(y_test, y_pred)\n",
        "\n",
        "print(f\"Random Forest Accuracy: {accuracy_percentage:.2f}%\")\n",
        "print(\"Classification Report:\")\n",
        "print(report)\n"
      ],
      "metadata": {
        "colab": {
          "base_uri": "https://localhost:8080/"
        },
        "id": "PdoEMDVu1reF",
        "outputId": "78fe8c2c-ffe1-4426-d0a6-75e0dab25ece"
      },
      "execution_count": null,
      "outputs": [
        {
          "output_type": "stream",
          "name": "stdout",
          "text": [
            "Random Forest Accuracy: 84.08%\n",
            "Classification Report:\n",
            "              precision    recall  f1-score   support\n",
            "\n",
            "    negative       0.84      0.84      0.84      1996\n",
            "    positive       0.84      0.84      0.84      2004\n",
            "\n",
            "    accuracy                           0.84      4000\n",
            "   macro avg       0.84      0.84      0.84      4000\n",
            "weighted avg       0.84      0.84      0.84      4000\n",
            "\n"
          ]
        }
      ]
    },
    {
      "cell_type": "markdown",
      "source": [
        "### ***Streamlit installation ***"
      ],
      "metadata": {
        "id": "VtIsCb95UZtr"
      }
    },
    {
      "cell_type": "code",
      "source": [
        "!pip install streamlit\n",
        "!pip install pyngrok\n"
      ],
      "metadata": {
        "colab": {
          "base_uri": "https://localhost:8080/"
        },
        "id": "q0uFfn1kT7CP",
        "outputId": "f3140cac-17ef-4594-e75a-2cf4d435b705"
      },
      "execution_count": null,
      "outputs": [
        {
          "output_type": "stream",
          "name": "stdout",
          "text": [
            "Collecting streamlit\n",
            "  Downloading streamlit-1.36.0-py2.py3-none-any.whl (8.6 MB)\n",
            "\u001b[2K     \u001b[90m━━━━━━━━━━━━━━━━━━━━━━━━━━━━━━━━━━━━━━━━\u001b[0m \u001b[32m8.6/8.6 MB\u001b[0m \u001b[31m61.7 MB/s\u001b[0m eta \u001b[36m0:00:00\u001b[0m\n",
            "\u001b[?25hRequirement already satisfied: altair<6,>=4.0 in /usr/local/lib/python3.10/dist-packages (from streamlit) (4.2.2)\n",
            "Requirement already satisfied: blinker<2,>=1.0.0 in /usr/lib/python3/dist-packages (from streamlit) (1.4)\n",
            "Requirement already satisfied: cachetools<6,>=4.0 in /usr/local/lib/python3.10/dist-packages (from streamlit) (5.3.3)\n",
            "Requirement already satisfied: click<9,>=7.0 in /usr/local/lib/python3.10/dist-packages (from streamlit) (8.1.7)\n",
            "Requirement already satisfied: numpy<3,>=1.20 in /usr/local/lib/python3.10/dist-packages (from streamlit) (1.25.2)\n",
            "Requirement already satisfied: packaging<25,>=20 in /usr/local/lib/python3.10/dist-packages (from streamlit) (24.1)\n",
            "Requirement already satisfied: pandas<3,>=1.3.0 in /usr/local/lib/python3.10/dist-packages (from streamlit) (2.0.3)\n",
            "Requirement already satisfied: pillow<11,>=7.1.0 in /usr/local/lib/python3.10/dist-packages (from streamlit) (9.4.0)\n",
            "Requirement already satisfied: protobuf<6,>=3.20 in /usr/local/lib/python3.10/dist-packages (from streamlit) (3.20.3)\n",
            "Requirement already satisfied: pyarrow>=7.0 in /usr/local/lib/python3.10/dist-packages (from streamlit) (14.0.2)\n",
            "Requirement already satisfied: requests<3,>=2.27 in /usr/local/lib/python3.10/dist-packages (from streamlit) (2.31.0)\n",
            "Requirement already satisfied: rich<14,>=10.14.0 in /usr/local/lib/python3.10/dist-packages (from streamlit) (13.7.1)\n",
            "Requirement already satisfied: tenacity<9,>=8.1.0 in /usr/local/lib/python3.10/dist-packages (from streamlit) (8.4.1)\n",
            "Requirement already satisfied: toml<2,>=0.10.1 in /usr/local/lib/python3.10/dist-packages (from streamlit) (0.10.2)\n",
            "Requirement already satisfied: typing-extensions<5,>=4.3.0 in /usr/local/lib/python3.10/dist-packages (from streamlit) (4.12.2)\n",
            "Collecting gitpython!=3.1.19,<4,>=3.0.7 (from streamlit)\n",
            "  Downloading GitPython-3.1.43-py3-none-any.whl (207 kB)\n",
            "\u001b[2K     \u001b[90m━━━━━━━━━━━━━━━━━━━━━━━━━━━━━━━━━━━━━━━━\u001b[0m \u001b[32m207.3/207.3 kB\u001b[0m \u001b[31m29.3 MB/s\u001b[0m eta \u001b[36m0:00:00\u001b[0m\n",
            "\u001b[?25hCollecting pydeck<1,>=0.8.0b4 (from streamlit)\n",
            "  Downloading pydeck-0.9.1-py2.py3-none-any.whl (6.9 MB)\n",
            "\u001b[2K     \u001b[90m━━━━━━━━━━━━━━━━━━━━━━━━━━━━━━━━━━━━━━━━\u001b[0m \u001b[32m6.9/6.9 MB\u001b[0m \u001b[31m98.0 MB/s\u001b[0m eta \u001b[36m0:00:00\u001b[0m\n",
            "\u001b[?25hRequirement already satisfied: tornado<7,>=6.0.3 in /usr/local/lib/python3.10/dist-packages (from streamlit) (6.3.3)\n",
            "Collecting watchdog<5,>=2.1.5 (from streamlit)\n",
            "  Downloading watchdog-4.0.1-py3-none-manylinux2014_x86_64.whl (83 kB)\n",
            "\u001b[2K     \u001b[90m━━━━━━━━━━━━━━━━━━━━━━━━━━━━━━━━━━━━━━━━\u001b[0m \u001b[32m83.0/83.0 kB\u001b[0m \u001b[31m13.2 MB/s\u001b[0m eta \u001b[36m0:00:00\u001b[0m\n",
            "\u001b[?25hRequirement already satisfied: entrypoints in /usr/local/lib/python3.10/dist-packages (from altair<6,>=4.0->streamlit) (0.4)\n",
            "Requirement already satisfied: jinja2 in /usr/local/lib/python3.10/dist-packages (from altair<6,>=4.0->streamlit) (3.1.4)\n",
            "Requirement already satisfied: jsonschema>=3.0 in /usr/local/lib/python3.10/dist-packages (from altair<6,>=4.0->streamlit) (4.19.2)\n",
            "Requirement already satisfied: toolz in /usr/local/lib/python3.10/dist-packages (from altair<6,>=4.0->streamlit) (0.12.1)\n",
            "Collecting gitdb<5,>=4.0.1 (from gitpython!=3.1.19,<4,>=3.0.7->streamlit)\n",
            "  Downloading gitdb-4.0.11-py3-none-any.whl (62 kB)\n",
            "\u001b[2K     \u001b[90m━━━━━━━━━━━━━━━━━━━━━━━━━━━━━━━━━━━━━━━━\u001b[0m \u001b[32m62.7/62.7 kB\u001b[0m \u001b[31m10.1 MB/s\u001b[0m eta \u001b[36m0:00:00\u001b[0m\n",
            "\u001b[?25hRequirement already satisfied: python-dateutil>=2.8.2 in /usr/local/lib/python3.10/dist-packages (from pandas<3,>=1.3.0->streamlit) (2.8.2)\n",
            "Requirement already satisfied: pytz>=2020.1 in /usr/local/lib/python3.10/dist-packages (from pandas<3,>=1.3.0->streamlit) (2023.4)\n",
            "Requirement already satisfied: tzdata>=2022.1 in /usr/local/lib/python3.10/dist-packages (from pandas<3,>=1.3.0->streamlit) (2024.1)\n",
            "Requirement already satisfied: charset-normalizer<4,>=2 in /usr/local/lib/python3.10/dist-packages (from requests<3,>=2.27->streamlit) (3.3.2)\n",
            "Requirement already satisfied: idna<4,>=2.5 in /usr/local/lib/python3.10/dist-packages (from requests<3,>=2.27->streamlit) (3.7)\n",
            "Requirement already satisfied: urllib3<3,>=1.21.1 in /usr/local/lib/python3.10/dist-packages (from requests<3,>=2.27->streamlit) (2.0.7)\n",
            "Requirement already satisfied: certifi>=2017.4.17 in /usr/local/lib/python3.10/dist-packages (from requests<3,>=2.27->streamlit) (2024.6.2)\n",
            "Requirement already satisfied: markdown-it-py>=2.2.0 in /usr/local/lib/python3.10/dist-packages (from rich<14,>=10.14.0->streamlit) (3.0.0)\n",
            "Requirement already satisfied: pygments<3.0.0,>=2.13.0 in /usr/local/lib/python3.10/dist-packages (from rich<14,>=10.14.0->streamlit) (2.16.1)\n",
            "Collecting smmap<6,>=3.0.1 (from gitdb<5,>=4.0.1->gitpython!=3.1.19,<4,>=3.0.7->streamlit)\n",
            "  Downloading smmap-5.0.1-py3-none-any.whl (24 kB)\n",
            "Requirement already satisfied: MarkupSafe>=2.0 in /usr/local/lib/python3.10/dist-packages (from jinja2->altair<6,>=4.0->streamlit) (2.1.5)\n",
            "Requirement already satisfied: attrs>=22.2.0 in /usr/local/lib/python3.10/dist-packages (from jsonschema>=3.0->altair<6,>=4.0->streamlit) (23.2.0)\n",
            "Requirement already satisfied: jsonschema-specifications>=2023.03.6 in /usr/local/lib/python3.10/dist-packages (from jsonschema>=3.0->altair<6,>=4.0->streamlit) (2023.12.1)\n",
            "Requirement already satisfied: referencing>=0.28.4 in /usr/local/lib/python3.10/dist-packages (from jsonschema>=3.0->altair<6,>=4.0->streamlit) (0.35.1)\n",
            "Requirement already satisfied: rpds-py>=0.7.1 in /usr/local/lib/python3.10/dist-packages (from jsonschema>=3.0->altair<6,>=4.0->streamlit) (0.18.1)\n",
            "Requirement already satisfied: mdurl~=0.1 in /usr/local/lib/python3.10/dist-packages (from markdown-it-py>=2.2.0->rich<14,>=10.14.0->streamlit) (0.1.2)\n",
            "Requirement already satisfied: six>=1.5 in /usr/local/lib/python3.10/dist-packages (from python-dateutil>=2.8.2->pandas<3,>=1.3.0->streamlit) (1.16.0)\n",
            "Installing collected packages: watchdog, smmap, pydeck, gitdb, gitpython, streamlit\n",
            "Successfully installed gitdb-4.0.11 gitpython-3.1.43 pydeck-0.9.1 smmap-5.0.1 streamlit-1.36.0 watchdog-4.0.1\n",
            "Collecting pyngrok\n",
            "  Downloading pyngrok-7.1.6-py3-none-any.whl (22 kB)\n",
            "Requirement already satisfied: PyYAML>=5.1 in /usr/local/lib/python3.10/dist-packages (from pyngrok) (6.0.1)\n",
            "Installing collected packages: pyngrok\n",
            "Successfully installed pyngrok-7.1.6\n"
          ]
        }
      ]
    },
    {
      "cell_type": "markdown",
      "source": [
        "# ***ngrok settings***"
      ],
      "metadata": {
        "id": "Cvf1cKSNYjiJ"
      }
    },
    {
      "cell_type": "code",
      "source": [
        "!ngrok authtoken 2iBZqlIpeLnVHfPvnYzA5FCvQyz_5EHCyoLftFYgzSqbduGo9\n"
      ],
      "metadata": {
        "colab": {
          "base_uri": "https://localhost:8080/"
        },
        "id": "tBmnEqwBYiub",
        "outputId": "8ec0f566-f9a1-4a6b-cfa3-7347ae26737e"
      },
      "execution_count": null,
      "outputs": [
        {
          "output_type": "stream",
          "name": "stdout",
          "text": [
            "Authtoken saved to configuration file: /root/.config/ngrok/ngrok.yml\n"
          ]
        }
      ]
    },
    {
      "cell_type": "markdown",
      "source": [
        "# ***saving the model in JOBLIB***"
      ],
      "metadata": {
        "id": "ZJqcXv5TUsDZ"
      }
    },
    {
      "cell_type": "code",
      "source": [
        "import joblib\n",
        "\n",
        "# Save the Random Forest model\n",
        "joblib.dump(rf, 'random_forest_model.pkl')\n",
        "\n",
        "# Save the vectorizer\n",
        "joblib.dump(vectorizer, 'vectorizer.pkl')\n"
      ],
      "metadata": {
        "colab": {
          "base_uri": "https://localhost:8080/"
        },
        "id": "bJ-_yowZT7FT",
        "outputId": "11a4cda7-6f3d-4875-a749-5bc906632e9b"
      },
      "execution_count": null,
      "outputs": [
        {
          "output_type": "execute_result",
          "data": {
            "text/plain": [
              "['vectorizer.pkl']"
            ]
          },
          "metadata": {},
          "execution_count": 33
        }
      ]
    },
    {
      "cell_type": "markdown",
      "source": [
        "# ***creating streamline python app ***"
      ],
      "metadata": {
        "id": "e4L3fOHwVir1"
      }
    },
    {
      "cell_type": "code",
      "source": [
        "%%writefile app.py\n",
        "import streamlit as st\n",
        "import joblib\n",
        "import nltk\n",
        "from nltk.stem import WordNetLemmatizer\n",
        "\n",
        "# Load the model and vectorizer\n",
        "rf = joblib.load('random_forest_model.pkl')\n",
        "vectorizer = joblib.load('vectorizer.pkl')\n",
        "\n",
        "# Ensure nltk packages are downloaded\n",
        "nltk.download('wordnet')\n",
        "nltk.download('omw-1.4')\n",
        "\n",
        "# Lemmatization function\n",
        "def lemmatize_text(text):\n",
        "    lemmatizer = WordNetLemmatizer()\n",
        "    words = text.split()\n",
        "    lemmatized_words = [lemmatizer.lemmatize(word) for word in words]\n",
        "    return ' '.join(lemmatized_words)\n",
        "\n",
        "# Function to classify new comments\n",
        "def classify_comment(comment):\n",
        "    lemmatized_comment = lemmatize_text(comment)\n",
        "    transformed_comment = vectorizer.transform([lemmatized_comment])\n",
        "    prediction = rf.predict(transformed_comment)\n",
        "    return prediction[0]\n",
        "\n",
        "# Streamlit app\n",
        "st.title('Sentiment Analysis App')\n",
        "\n",
        "st.write('This is a simple sentiment analysis app to predict whether the sentiment of a given text is positive or negative.')\n",
        "\n",
        "# Text input\n",
        "user_input = st.text_area(\"Enter your text here:\")\n",
        "\n",
        "if st.button('Predict'):\n",
        "    if user_input:\n",
        "        result = classify_comment(user_input)\n",
        "        st.write(f'The predicted sentiment is: {result}')\n",
        "    else:\n",
        "        st.write(\"Please enter some text to analyze.\")\n"
      ],
      "metadata": {
        "colab": {
          "base_uri": "https://localhost:8080/"
        },
        "id": "q4JuZk7sVgwo",
        "outputId": "c5852b06-c51d-4515-9713-06d7205d4337"
      },
      "execution_count": null,
      "outputs": [
        {
          "output_type": "stream",
          "name": "stdout",
          "text": [
            "Overwriting app.py\n"
          ]
        }
      ]
    },
    {
      "cell_type": "markdown",
      "source": [
        "# ***Create Streamlit app***"
      ],
      "metadata": {
        "id": "qAMdBTHoU4ih"
      }
    },
    {
      "cell_type": "code",
      "source": [
        "import streamlit as st\n",
        "import joblib\n",
        "import pandas as pd\n",
        "\n",
        "# Load the model and vectorizer\n",
        "rf = joblib.load('random_forest_model.pkl')\n",
        "vectorizer = joblib.load('vectorizer.pkl')\n",
        "\n",
        "# Function to classify new comments\n",
        "def classify_comment(comment):\n",
        "    lemmatized_comment = lemmatize_text(comment)\n",
        "    transformed_comment = vectorizer.transform([lemmatized_comment])\n",
        "    prediction = rf.predict(transformed_comment)\n",
        "    return prediction[0]\n",
        "\n",
        "# Streamlit app\n",
        "st.title('Sentiment Analysis App')\n",
        "\n",
        "st.write('This is a simple sentiment analysis app to predict whether the sentiment of a given text is positive or negative.')\n",
        "\n",
        "# Text input\n",
        "user_input = st.text_area(\"Enter your text here:\")\n",
        "\n",
        "if st.button('Predict'):\n",
        "    if user_input:\n",
        "        result = classify_comment(user_input)\n",
        "        st.write(f'The predicted sentiment is: {result}')\n",
        "    else:\n",
        "        st.write(\"Please enter some text to analyze.\")\n"
      ],
      "metadata": {
        "id": "CxB6heIdT7Jz"
      },
      "execution_count": null,
      "outputs": []
    },
    {
      "cell_type": "markdown",
      "source": [],
      "metadata": {
        "id": "TsoM33EeWTYp"
      }
    },
    {
      "cell_type": "markdown",
      "source": [
        "# ***Run Streamlit app using ngrok***"
      ],
      "metadata": {
        "id": "jabNlJo1Vxnw"
      }
    },
    {
      "cell_type": "code",
      "source": [
        "from pyngrok import ngrok\n",
        "\n",
        "# Run the Streamlit app\n",
        "!streamlit run app.py &>/content/logs.txt &\n",
        "\n",
        "# Create a public URL using ngrok with correct protocol configuration\n",
        "public_url = ngrok.connect(addr=\"8501\", proto=\"http\")\n",
        "print(public_url)\n"
      ],
      "metadata": {
        "colab": {
          "base_uri": "https://localhost:8080/"
        },
        "id": "3zPYuYzuU-eY",
        "outputId": "52f8b9bf-f42e-4e5c-d074-8189ffd7469e"
      },
      "execution_count": null,
      "outputs": [
        {
          "output_type": "stream",
          "name": "stdout",
          "text": [
            "NgrokTunnel: \"https://60e1-35-240-146-219.ngrok-free.app\" -> \"http://localhost:8501\"\n"
          ]
        }
      ]
    }
  ],
  "metadata": {
    "colab": {
      "provenance": [],
      "include_colab_link": true
    },
    "kernelspec": {
      "display_name": "Python 3",
      "name": "python3"
    },
    "language_info": {
      "name": "python"
    }
  },
  "nbformat": 4,
  "nbformat_minor": 0
}